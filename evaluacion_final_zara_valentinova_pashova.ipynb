{
 "cells": [
  {
   "cell_type": "markdown",
   "id": "c6e7216e",
   "metadata": {},
   "source": [
    "# Ejercicio evaluación final: Módulo 1. Python"
   ]
  },
  {
   "cell_type": "markdown",
   "id": "7b4db35d",
   "metadata": {},
   "source": [
    "### A lo largo de esta evaluación tendrás que crear una clase llamada TiendaOnline que cumpla los siguientes requisitos (establecidos abajo)."
   ]
  },
  {
   "cell_type": "code",
   "execution_count": 224,
   "id": "f08d7705",
   "metadata": {},
   "outputs": [
    {
     "name": "stdout",
     "output_type": "stream",
     "text": [
      "<__main__.TiendaOnline object at 0x000002668EBE5B10>\n"
     ]
    },
    {
     "data": {
      "text/plain": [
       "{}"
      ]
     },
     "execution_count": 224,
     "metadata": {},
     "output_type": "execute_result"
    }
   ],
   "source": [
    "class TiendaOnline:\n",
    "    pass\n",
    "\n",
    "# Hemos creado nuestra clase vacía. A continuación, la vamos a almacenar en una variable denominada mi_tienda\n",
    "\n",
    "mi_tienda=TiendaOnline()\n",
    "print(mi_tienda)\n",
    "mi_tienda.__dict__"
   ]
  },
  {
   "cell_type": "markdown",
   "id": "3d53bd20",
   "metadata": {},
   "source": [
    "Requisito 1. La clase TiendaOnline debe tener los siguientes atributos:\n"
   ]
  },
  {
   "cell_type": "markdown",
   "id": "c8017ceb",
   "metadata": {},
   "source": [
    "1.1. inventario (lista de diccionarios): Un atributo para almacenar los productos en el inventario.\n",
    "    Cada producto debe ser representado como un diccionario con las siguientes claves: 'nombre', 'precio', y 'cantidad'. Al principio deberá ser una lista vacía.\n"
   ]
  },
  {
   "cell_type": "code",
   "execution_count": null,
   "id": "f90c643c",
   "metadata": {},
   "outputs": [],
   "source": [
    "# 1.1.\n",
    "# Primero creamos una lista vacía denominada \"inventario\".\n",
    "#inventario=[]\n",
    "# Después, generamos nuestros dos diccionarios de la siguiente manera:\n",
    "#dic_inventario1={\"nombre\": \"camisa\", \"precio\":20, \"cantidad\":40}\n",
    "#dic_inventario2={\"nombre\": \"pantalon\", \"precio\":30, \"cantidad\":30}\n",
    "#print(dic_inventario1)\n",
    "#print(dic_inventario2)\n",
    "# Por último, incorporamos los dos diccionarios creados anteriormente en nuestra lista inventario.\n",
    "#inventario=[dic_inventario1, dic_inventario2]\n",
    "#print(inventario) BORRAR AL FINAL \n"
   ]
  },
  {
   "cell_type": "markdown",
   "id": "1b95b92d",
   "metadata": {},
   "source": [
    "1.2. ventas_totales (float): Un atributo para llevar un registro de las ventas totales de la tienda. Inicializado con valor 0.\n",
    " \n"
   ]
  },
  {
   "cell_type": "code",
   "execution_count": 25,
   "id": "5b98617f",
   "metadata": {},
   "outputs": [],
   "source": [
    "# 1.2. \n",
    "#ventas_totales=float(0)\n",
    "#print(ventas_totales)"
   ]
  },
  {
   "cell_type": "code",
   "execution_count": 168,
   "id": "12cb6d1d",
   "metadata": {},
   "outputs": [],
   "source": [
    "# A continuación, incorporaremos nuestros atributos a la clase TiendaOnline\n",
    "\n",
    "class TiendaOnline:\n",
    "    def __init__(self, inventario, ventas_totales=float(0)): #incluir ambos parámetros permite que más adelante se modifiquen\n",
    "        self.inventario=[]\n",
    "        self.ventas_totales=ventas_totales\n",
    "        "
   ]
  },
  {
   "cell_type": "code",
   "execution_count": 93,
   "id": "3d8cc912",
   "metadata": {},
   "outputs": [],
   "source": [
    "mi_tienda=TiendaOnline([{\"nombre\": \"camisa\", \"precio\":20, \"cantidad\":40}, {\"nombre\": \"pantalon\", \"precio\":30, \"cantidad\":30}])"
   ]
  },
  {
   "cell_type": "code",
   "execution_count": 91,
   "id": "02437664",
   "metadata": {},
   "outputs": [
    {
     "data": {
      "text/plain": [
       "{'inventario': [{'nombre': 'camisa', 'precio': 20, 'cantidad': 40},\n",
       "  {'nombre': 'pantalon', 'precio': 30, 'cantidad': 30}],\n",
       " 'ventas_totales': 0.0}"
      ]
     },
     "execution_count": 91,
     "metadata": {},
     "output_type": "execute_result"
    }
   ],
   "source": [
    "mi_tienda.__dict__"
   ]
  },
  {
   "cell_type": "code",
   "execution_count": 86,
   "id": "d814f1cd",
   "metadata": {},
   "outputs": [
    {
     "data": {
      "text/plain": [
       "[{'nombre': 'camisa', 'precio': 20, 'cantidad': 40},\n",
       " {'nombre': 'pantalon', 'precio': 30, 'cantidad': 30}]"
      ]
     },
     "execution_count": 86,
     "metadata": {},
     "output_type": "execute_result"
    }
   ],
   "source": [
    "mi_tienda.inventario"
   ]
  },
  {
   "cell_type": "code",
   "execution_count": 87,
   "id": "ef710242",
   "metadata": {},
   "outputs": [
    {
     "data": {
      "text/plain": [
       "0.0"
      ]
     },
     "execution_count": 87,
     "metadata": {},
     "output_type": "execute_result"
    }
   ],
   "source": [
    "mi_tienda.ventas_totales"
   ]
  },
  {
   "cell_type": "markdown",
   "id": "8c575871",
   "metadata": {},
   "source": [
    "Requisito 2. La clase TiendaOnline debe tener los siguientes métodos:"
   ]
  },
  {
   "cell_type": "markdown",
   "id": "f6a61b11",
   "metadata": {},
   "source": [
    "2.1. agregar_producto(self, nombre, precio, cantidad): Este método agrega un producto al\n",
    "inventario o actualiza su cantidad si ya existe. Debe recibir el nombre, precio y cantidad del producto\n",
    "como parámetros.\n",
    " - Itera a través del inventario y compara los nombres de los productos con el nombre\n",
    "proporcionado.\n",
    "- Si el producto ya existe, actualiza la cantidad.\n",
    "- Si no existe, agrega un nuevo producto al inventario.\n"
   ]
  },
  {
   "cell_type": "code",
   "execution_count": null,
   "id": "91e9d1ce",
   "metadata": {},
   "outputs": [],
   "source": [
    "#Primero hacemos la función fuera de la clase para asegurarnos de que esté funcionando bien.\n",
    "\n",
    "productos=[{\"nombre\": \"camisa\", \"precio\":20, \"cantidad\":40}]\n",
    "\n",
    "def agregar_producto(nombre, precio, cantidad):\n",
    "    for producto in productos: #Incluimos un bucle for que itinerará por la lista productos.\n",
    "        if producto[\"nombre\"]==nombre: #Para cada elemento de la lista, verificará si la clave \"nombre\" de productos coincide con el argumento introducido (correspondiente al parámentro nombre al llamar la función)·\n",
    "            producto[\"cantidad\"] +=cantidad #En caso de que la condición if se cumpla, Python cogerá el número especificado en el argumento correspondente al parámetro cantidad al llamar la función y lo añadirá al número que consta en la var productos (valor correspondiente de la clave \"cantidad\").\n",
    "            print(f\"Producto existente. Cantidad actual disponible:{producto['cantidad']}\") #Salta mensaje diciendo que el producto introducido ya existe y muestra la cantidad actualizada.\n",
    "            return #Este return funciona para el ejercicio actual. Sin embargo, si estuviera trabajando con una lista donde hay más de una aparición del mismo artículo, return haría que el bucle se detuviera al encontrar la primera, e ignoraría la segunda, dejando las cantidades especificadas ahí sin añadir al total.\n",
    "    productos.append({\"nombre\":nombre, \"precio\":precio, \"cantidad\":cantidad}) #Si la condición especificada dentro del bucle for no se cumple, los argumentos introducidos al llamar la función agregar_producto se añaden a la var productos como un nuevo diccionario dentro de la lista.\n",
    "    print (f\"Producto añadido: {nombre}\") #Salta mensaje que indica el nuevo producto añadido a nuestra lista de productos."
   ]
  },
  {
   "cell_type": "code",
   "execution_count": null,
   "id": "e128cc01",
   "metadata": {},
   "outputs": [
    {
     "name": "stdout",
     "output_type": "stream",
     "text": [
      "Producto existente. Cantidad actual disponible:41\n",
      "Producto añadido: pantalon\n"
     ]
    }
   ],
   "source": [
    "#Ejemplos que demuestra que la función funciona.\n",
    "\n",
    "agregar_producto(\"camisa\", 20, 1) \n",
    "agregar_producto(\"pantalon\", 20, 9) \n"
   ]
  },
  {
   "cell_type": "code",
   "execution_count": 166,
   "id": "a96b2f03",
   "metadata": {},
   "outputs": [
    {
     "name": "stdout",
     "output_type": "stream",
     "text": [
      "[{'nombre': 'camisa', 'precio': 20, 'cantidad': 41}, {'nombre': 'pantalon', 'precio': 20, 'cantidad': 9}]\n"
     ]
    }
   ],
   "source": [
    "print(productos)"
   ]
  },
  {
   "cell_type": "code",
   "execution_count": 266,
   "id": "2642e897",
   "metadata": {},
   "outputs": [],
   "source": [
    "#A continuación, incluímos la función dentro de nuestra clase TiendaOnline, haciendo los cambios especificados abajo. Volvemos a incluir la definición de los atributos a modo de ayuda visual.\n",
    "\n",
    "class TiendaOnline:\n",
    "    def __init__(self, inventario, ventas_totales=float(0)): #incluir ambos parámetros permite que más adelante se modifiquen\n",
    "        self.inventario=inventario #Si aquí pongo =[] en vez de inventario, me sobreescribe una lista vacía sobre el elemento de la nueva instancia.\n",
    "        self.ventas_totales=ventas_totales\n",
    "\n",
    "    def agregar_producto(self, nombre, precio, cantidad):\n",
    "        for producto in self.inventario: #Incluimos un bucle for que itinerará por la lista productos.\n",
    "            if producto[\"nombre\"]==nombre: #Para cada elemento de la lista, verificará si el valor correspondiente a la clave \"nombre\" de productos coincide con el argumento introducido (correspondiente al parámentro nombre al llamar la función)·\n",
    "                producto[\"cantidad\"] +=cantidad #En caso de que la condición if se cumpla, Python cogerá el número especificado en el argumento correspondente al parámetro cantidad al llamar la función y lo añadirá al número que consta en la var productos (valor correspondiente de la clave \"cantidad\").\n",
    "                print(f\"Producto existente. Cantidad actual disponible:{producto['cantidad']}\") #Salta mensaje diciendo que el producto introducido ya existe y muestra la cantidad actualizada.\n",
    "                return #Este return funciona para el ejercicio actual. Sin embargo, si estuviera trabajando con una lista donde hay más de una aparición del mismo artículo, return haría que el bucle se detuviera al encontrar la primera, e ignoraría la segunda, dejando las cantidades especificadas ahí sin añadir al total.\n",
    "        self.inventario.append({\"nombre\": nombre, \"precio\": precio, \"cantidad\": cantidad}) #Si la condición especificada dentro del bucle for no se cumple, los argumentos introducidos al llamar la función agregar_producto se añaden a la var productos como un nuevo diccionario dentro de la lista.\n",
    "        print (f\"Producto añadido: {nombre}\") #Salta mensaje que indica el nuevo producto añadido a nuestra lista de productos.\n",
    "            "
   ]
  },
  {
   "cell_type": "code",
   "execution_count": 267,
   "id": "5f2f774d",
   "metadata": {},
   "outputs": [
    {
     "data": {
      "text/plain": [
       "{}"
      ]
     },
     "execution_count": 267,
     "metadata": {},
     "output_type": "execute_result"
    }
   ],
   "source": [
    "mi_tienda.__dict__"
   ]
  },
  {
   "cell_type": "code",
   "execution_count": 268,
   "id": "40e64d69",
   "metadata": {},
   "outputs": [],
   "source": [
    "mi_tienda=TiendaOnline([{\"nombre\":\"abrigo\", \"precio\": 70, \"cantidad\":15}])"
   ]
  },
  {
   "cell_type": "code",
   "execution_count": 269,
   "id": "ab4aefb2",
   "metadata": {},
   "outputs": [
    {
     "name": "stdout",
     "output_type": "stream",
     "text": [
      "Producto existente. Cantidad actual disponible:30\n"
     ]
    }
   ],
   "source": [
    "mi_tienda.agregar_producto(\"abrigo\", 70, 15)\n"
   ]
  },
  {
   "cell_type": "code",
   "execution_count": 270,
   "id": "d9cc395a",
   "metadata": {},
   "outputs": [
    {
     "name": "stdout",
     "output_type": "stream",
     "text": [
      "Producto añadido: zapatos\n"
     ]
    }
   ],
   "source": [
    "mi_tienda.agregar_producto(\"zapatos\", 30, 20)"
   ]
  },
  {
   "cell_type": "code",
   "execution_count": 271,
   "id": "5f34d9ae",
   "metadata": {},
   "outputs": [
    {
     "data": {
      "text/plain": [
       "{'inventario': [{'nombre': 'abrigo', 'precio': 70, 'cantidad': 30},\n",
       "  {'nombre': 'zapatos', 'precio': 30, 'cantidad': 20}],\n",
       " 'ventas_totales': 0.0}"
      ]
     },
     "execution_count": 271,
     "metadata": {},
     "output_type": "execute_result"
    }
   ],
   "source": [
    "mi_tienda.__dict__"
   ]
  },
  {
   "cell_type": "markdown",
   "id": "315c344f",
   "metadata": {},
   "source": [
    "2.2. ver_inventario(self): \n",
    "- Muestra el inventario de productos con sus detalles.\n",
    "- Utiliza un bucle for para recorrer el inventario. \n",
    "- Imprime los detalles (nombre, precio, cantidad) de cada producto."
   ]
  },
  {
   "cell_type": "code",
   "execution_count": 290,
   "id": "d1838094",
   "metadata": {},
   "outputs": [],
   "source": [
    "class TiendaOnline:\n",
    "    def __init__(self, inventario, ventas_totales=float(0)): #incluir ambos parámetros permite que más adelante se modifiquen\n",
    "        self.inventario=inventario #Si aquí pongo =[] en vez de inventario, me sobreescribe una lista vacía sobre el elemento de la nueva instancia.\n",
    "        self.ventas_totales=ventas_totales\n",
    "\n",
    "    def ver_inventario (self):\n",
    "        print(self.inventario)\n",
    "        for producto in self.inventario:\n",
    "            print (f\"nombre: {producto['nombre']}, precio: ${producto['precio']}, cantidad: {producto['cantidad']}\")\n",
    "\n",
    "        "
   ]
  },
  {
   "cell_type": "code",
   "execution_count": 291,
   "id": "8cdb9268",
   "metadata": {},
   "outputs": [],
   "source": [
    "mi_tienda=TiendaOnline([{\"nombre\":\"abrigo\", \"precio\": 70, \"cantidad\":15}, {\"nombre\": \"camisa\", \"precio\":20, \"cantidad\":40}, {\"nombre\": \"pantalon\", \"precio\":30, \"cantidad\":30}])"
   ]
  },
  {
   "cell_type": "code",
   "execution_count": 292,
   "id": "be084ecf",
   "metadata": {},
   "outputs": [
    {
     "name": "stdout",
     "output_type": "stream",
     "text": [
      "[{'nombre': 'abrigo', 'precio': 70, 'cantidad': 15}, {'nombre': 'camisa', 'precio': 20, 'cantidad': 40}, {'nombre': 'pantalon', 'precio': 30, 'cantidad': 30}]\n",
      "nombre: abrigo, precio: $70, cantidad: 15\n",
      "nombre: camisa, precio: $20, cantidad: 40\n",
      "nombre: pantalon, precio: $30, cantidad: 30\n"
     ]
    }
   ],
   "source": [
    "mi_tienda.ver_inventario()"
   ]
  },
  {
   "cell_type": "code",
   "execution_count": 293,
   "id": "20697076",
   "metadata": {},
   "outputs": [
    {
     "data": {
      "text/plain": [
       "{'inventario': [{'nombre': 'abrigo', 'precio': 70, 'cantidad': 15},\n",
       "  {'nombre': 'camisa', 'precio': 20, 'cantidad': 40},\n",
       "  {'nombre': 'pantalon', 'precio': 30, 'cantidad': 30}],\n",
       " 'ventas_totales': 0.0}"
      ]
     },
     "execution_count": 293,
     "metadata": {},
     "output_type": "execute_result"
    }
   ],
   "source": [
    "mi_tienda.__dict__"
   ]
  },
  {
   "cell_type": "markdown",
   "id": "e428679a",
   "metadata": {},
   "source": [
    "2.3. buscar_producto(self, nombre): Busca un producto en el inventario por nombre y muestra sus\n",
    "detalles si se encuentra. \n",
    "- Debe recibir el nombre del producto como parámetro.\n",
    "- Utiliza un bucle for para recorrer el inventario.\n",
    "- Compara los nombres de los productos con el nombre proporcionado.\n",
    "- Si se encuentra el producto, imprime sus detalles."
   ]
  },
  {
   "cell_type": "code",
   "execution_count": 301,
   "id": "f9ce6ce6",
   "metadata": {},
   "outputs": [],
   "source": [
    "class TiendaOnline:\n",
    "    def __init__(self, inventario, ventas_totales=float(0)): #incluir ambos parámetros permite que más adelante se modifiquen\n",
    "        self.inventario=inventario #Si aquí pongo =[] en vez de inventario, me sobreescribe una lista vacía sobre el elemento de la nueva instancia.\n",
    "        self.ventas_totales=ventas_totales\n",
    "\n",
    "    def buscar_producto(self, nombre):\n",
    "        for producto in self.inventario:\n",
    "            if producto[\"nombre\"]==nombre:\n",
    "                print(f\"nombre: {producto['nombre']}, precio: ${producto['precio']}, cantidad: {producto['cantidad']}\")"
   ]
  },
  {
   "cell_type": "code",
   "execution_count": 305,
   "id": "349e17db",
   "metadata": {},
   "outputs": [],
   "source": [
    "mi_tienda=TiendaOnline([{'nombre': 'abrigo', 'precio': 70, 'cantidad': 15},\n",
    "  {'nombre': 'camisa', 'precio': 20, 'cantidad': 40},\n",
    "  {'nombre': 'pantalon', 'precio': 30, 'cantidad': 30}])"
   ]
  },
  {
   "cell_type": "code",
   "execution_count": 306,
   "id": "a396fe9e",
   "metadata": {},
   "outputs": [
    {
     "data": {
      "text/plain": [
       "{'inventario': [{'nombre': 'abrigo', 'precio': 70, 'cantidad': 15},\n",
       "  {'nombre': 'camisa', 'precio': 20, 'cantidad': 40},\n",
       "  {'nombre': 'pantalon', 'precio': 30, 'cantidad': 30}],\n",
       " 'ventas_totales': 0.0}"
      ]
     },
     "execution_count": 306,
     "metadata": {},
     "output_type": "execute_result"
    }
   ],
   "source": [
    "mi_tienda.__dict__"
   ]
  },
  {
   "cell_type": "code",
   "execution_count": 309,
   "id": "4afe68d6",
   "metadata": {},
   "outputs": [
    {
     "name": "stdout",
     "output_type": "stream",
     "text": [
      "nombre: camisa, precio: $20, cantidad: 40\n"
     ]
    }
   ],
   "source": [
    "mi_tienda.buscar_producto(\"camisa\")"
   ]
  }
 ],
 "metadata": {
  "kernelspec": {
   "display_name": "Python 3",
   "language": "python",
   "name": "python3"
  },
  "language_info": {
   "codemirror_mode": {
    "name": "ipython",
    "version": 3
   },
   "file_extension": ".py",
   "mimetype": "text/x-python",
   "name": "python",
   "nbconvert_exporter": "python",
   "pygments_lexer": "ipython3",
   "version": "3.11.9"
  }
 },
 "nbformat": 4,
 "nbformat_minor": 5
}
