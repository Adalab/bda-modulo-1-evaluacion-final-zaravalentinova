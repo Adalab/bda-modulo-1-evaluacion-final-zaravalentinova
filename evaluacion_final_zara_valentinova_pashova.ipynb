{
 "cells": [
  {
   "cell_type": "markdown",
   "id": "c6e7216e",
   "metadata": {},
   "source": [
    "# Ejercicio evaluación final: Módulo 1. Python"
   ]
  },
  {
   "cell_type": "markdown",
   "id": "7b4db35d",
   "metadata": {},
   "source": [
    "A lo largo de esta evaluación tendrás que crear una clase llamada TiendaOnline que cumpla los\n",
    "siguientes requisitos (establecidos abajo)."
   ]
  },
  {
   "cell_type": "code",
   "execution_count": null,
   "id": "f08d7705",
   "metadata": {},
   "outputs": [
    {
     "name": "stdout",
     "output_type": "stream",
     "text": [
      "<__main__.TiendaOnline object at 0x000002A2B5AC16D0>\n"
     ]
    }
   ],
   "source": [
    "class TiendaOnline:\n",
    "    pass\n",
    "\n",
    "# Hemos creado nuestra clase vacía. A continuación, la vamos a almacenar en una variable denominada mi_tienda\n",
    "\n",
    "mi_tienda=TiendaOnline()\n",
    "print(mi_tienda)"
   ]
  },
  {
   "cell_type": "markdown",
   "id": "3d53bd20",
   "metadata": {},
   "source": [
    "Requisito 1. La clase TiendaOnline debe tener los siguientes atributos:\n"
   ]
  },
  {
   "cell_type": "markdown",
   "id": "c8017ceb",
   "metadata": {},
   "source": [
    "1.1. inventario (lista de diccionarios): Un atributo para almacenar los productos en el inventario.\n",
    "    Cada producto debe ser representado como un diccionario con las siguientes claves: 'nombre', 'precio', y 'cantidad'. Al principio deberá ser una lista vacía.\n"
   ]
  },
  {
   "cell_type": "code",
   "execution_count": 21,
   "id": "f90c643c",
   "metadata": {},
   "outputs": [
    {
     "name": "stdout",
     "output_type": "stream",
     "text": [
      "{'nombre': 'camisa', 'precio': 20, 'cantidad': 40}\n",
      "{'nombre': 'pantalon', 'precio': 30, 'cantidad': 30}\n",
      "[{'nombre': 'camisa', 'precio': 20, 'cantidad': 40}, {'nombre': 'pantalon', 'precio': 30, 'cantidad': 30}]\n"
     ]
    }
   ],
   "source": [
    "# 1.1.\n",
    "# Primero creamos una lista vacía denominada \"inventario\".\n",
    "inventario=[]\n",
    "# Después, generamos nuestros dos diccionarios de la siguiente manera:\n",
    "dic_inventario1={\"nombre\": \"camisa\", \"precio\":20, \"cantidad\":40}\n",
    "dic_inventario2={\"nombre\": \"pantalon\", \"precio\":30, \"cantidad\":30}\n",
    "print(dic_inventario1)\n",
    "print(dic_inventario2)\n",
    "# Por último, \"llenamos\" nuestra lista inventario de los dos diccionarios creados anteriormente.\n",
    "inventario=[dic_inventario1, dic_inventario2]\n",
    "print(inventario)\n"
   ]
  },
  {
   "cell_type": "markdown",
   "id": "1b95b92d",
   "metadata": {},
   "source": [
    "1.2. ventas_totales (float): Un atributo para llevar un registro de las ventas totales de la tienda. Inicializado con valor 0.\n",
    " \n"
   ]
  },
  {
   "cell_type": "code",
   "execution_count": 24,
   "id": "5b98617f",
   "metadata": {},
   "outputs": [],
   "source": [
    "# 1.2. \n",
    "#ventas_totales=float(0)\n",
    "#print(ventas_totales)"
   ]
  },
  {
   "cell_type": "code",
   "execution_count": 25,
   "id": "12cb6d1d",
   "metadata": {},
   "outputs": [],
   "source": [
    "# A continuación, incorporaremos nuestros atributos a la clase TiendaOnline\n",
    "\n",
    "class TiendaOnline:\n",
    "    def __init__(self, inventario, ventas_totales=float(0)):\n",
    "        self_inventario=inventario\n",
    "        self_ventas_totales= ventas_totales"
   ]
  },
  {
   "cell_type": "code",
   "execution_count": null,
   "id": "3d8cc912",
   "metadata": {},
   "outputs": [
    {
     "name": "stdout",
     "output_type": "stream",
     "text": [
      "<class '__main__.TiendaOnline'>\n"
     ]
    }
   ],
   "source": []
  },
  {
   "cell_type": "markdown",
   "id": "8c575871",
   "metadata": {},
   "source": [
    "Requisito 2. La clase TiendaOnline debe tener los siguientes métodos:"
   ]
  },
  {
   "cell_type": "markdown",
   "id": "f6a61b11",
   "metadata": {},
   "source": [
    "2.1. agregar_producto(self, nombre, precio, cantidad): Este método agrega un producto al\n",
    "inventario o actualiza su cantidad si ya existe. Debe recibir el nombre, precio y cantidad del producto\n",
    "como parámetros.\n",
    " - Itera a través del inventario y compara los nombres de los productos con el nombre\n",
    "proporcionado.\n",
    "- Si el producto ya existe, actualiza la cantidad.\n",
    "- Si no existe, agrega un nuevo producto al inventario.\n"
   ]
  },
  {
   "cell_type": "code",
   "execution_count": null,
   "id": "2642e897",
   "metadata": {},
   "outputs": [],
   "source": []
  },
  {
   "cell_type": "code",
   "execution_count": null,
   "id": "ca515914",
   "metadata": {},
   "outputs": [],
   "source": []
  }
 ],
 "metadata": {
  "kernelspec": {
   "display_name": "Python 3",
   "language": "python",
   "name": "python3"
  },
  "language_info": {
   "codemirror_mode": {
    "name": "ipython",
    "version": 3
   },
   "file_extension": ".py",
   "mimetype": "text/x-python",
   "name": "python",
   "nbconvert_exporter": "python",
   "pygments_lexer": "ipython3",
   "version": "3.11.9"
  }
 },
 "nbformat": 4,
 "nbformat_minor": 5
}
