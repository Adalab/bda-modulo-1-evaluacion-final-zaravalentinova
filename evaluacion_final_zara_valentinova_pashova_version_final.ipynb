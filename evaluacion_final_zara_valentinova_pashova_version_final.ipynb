{
 "cells": [
  {
   "cell_type": "markdown",
   "id": "c6e7216e",
   "metadata": {},
   "source": [
    "# Ejercicio evaluación final: Módulo 1. Python"
   ]
  },
  {
   "cell_type": "markdown",
   "id": "7b4db35d",
   "metadata": {},
   "source": [
    "### A lo largo de esta evaluación tendrás que crear una clase llamada TiendaOnline que cumpla los siguientes requisitos (establecidos abajo)."
   ]
  },
  {
   "cell_type": "code",
   "execution_count": 224,
   "id": "f08d7705",
   "metadata": {},
   "outputs": [
    {
     "name": "stdout",
     "output_type": "stream",
     "text": [
      "<__main__.TiendaOnline object at 0x000002668EBE5B10>\n"
     ]
    },
    {
     "data": {
      "text/plain": [
       "{}"
      ]
     },
     "execution_count": 224,
     "metadata": {},
     "output_type": "execute_result"
    }
   ],
   "source": [
    "class TiendaOnline:\n",
    "    pass\n",
    "\n",
    "# Hemos creado nuestra clase vacía. A continuación, la vamos a almacenar en una variable denominada mi_tienda\n",
    "\n",
    "mi_tienda=TiendaOnline()\n",
    "print(mi_tienda)\n",
    "mi_tienda.__dict__"
   ]
  },
  {
   "cell_type": "markdown",
   "id": "3d53bd20",
   "metadata": {},
   "source": [
    "Requisito 1. La clase TiendaOnline debe tener los siguientes atributos:\n"
   ]
  },
  {
   "cell_type": "markdown",
   "id": "c8017ceb",
   "metadata": {},
   "source": [
    "1.1. inventario (lista de diccionarios): Un atributo para almacenar los productos en el inventario.\n",
    "    Cada producto debe ser representado como un diccionario con las siguientes claves: 'nombre', 'precio', y 'cantidad'. Al principio deberá ser una lista vacía.\n"
   ]
  },
  {
   "cell_type": "markdown",
   "id": "1b95b92d",
   "metadata": {},
   "source": [
    "1.2. ventas_totales (float): Un atributo para llevar un registro de las ventas totales de la tienda. Inicializado con valor 0.\n",
    " \n"
   ]
  },
  {
   "cell_type": "code",
   "execution_count": 168,
   "id": "12cb6d1d",
   "metadata": {},
   "outputs": [],
   "source": [
    "# A continuación, incorporaremos nuestros atributos a la clase TiendaOnline\n",
    "\n",
    "class TiendaOnline:\n",
    "    def __init__(self, inventario, ventas_totales=float(0)): #incluir ambos parámetros permite que más adelante se modifiquen\n",
    "        self.inventario=[]\n",
    "        self.ventas_totales=ventas_totales\n",
    "        "
   ]
  },
  {
   "cell_type": "code",
   "execution_count": 93,
   "id": "3d8cc912",
   "metadata": {},
   "outputs": [],
   "source": [
    "mi_tienda=TiendaOnline([{\"nombre\": \"camisa\", \"precio\":20, \"cantidad\":40}, {\"nombre\": \"pantalon\", \"precio\":30, \"cantidad\":30}])"
   ]
  },
  {
   "cell_type": "code",
   "execution_count": null,
   "id": "02437664",
   "metadata": {},
   "outputs": [
    {
     "data": {
      "text/plain": [
       "{'inventario': [{'nombre': 'camisa', 'precio': 20, 'cantidad': 40},\n",
       "  {'nombre': 'pantalon', 'precio': 30, 'cantidad': 30}],\n",
       " 'ventas_totales': 0.0}"
      ]
     },
     "execution_count": 91,
     "metadata": {},
     "output_type": "execute_result"
    }
   ],
   "source": [
    "mi_tienda.__dict__ #comprobamos los atributos del objeto mi_tienda"
   ]
  },
  {
   "cell_type": "code",
   "execution_count": 86,
   "id": "d814f1cd",
   "metadata": {},
   "outputs": [
    {
     "data": {
      "text/plain": [
       "[{'nombre': 'camisa', 'precio': 20, 'cantidad': 40},\n",
       " {'nombre': 'pantalon', 'precio': 30, 'cantidad': 30}]"
      ]
     },
     "execution_count": 86,
     "metadata": {},
     "output_type": "execute_result"
    }
   ],
   "source": [
    "mi_tienda.inventario"
   ]
  },
  {
   "cell_type": "code",
   "execution_count": 87,
   "id": "ef710242",
   "metadata": {},
   "outputs": [
    {
     "data": {
      "text/plain": [
       "0.0"
      ]
     },
     "execution_count": 87,
     "metadata": {},
     "output_type": "execute_result"
    }
   ],
   "source": [
    "mi_tienda.ventas_totales"
   ]
  },
  {
   "cell_type": "markdown",
   "id": "8c575871",
   "metadata": {},
   "source": [
    "Requisito 2. La clase TiendaOnline debe tener los siguientes métodos:"
   ]
  },
  {
   "cell_type": "markdown",
   "id": "f6a61b11",
   "metadata": {},
   "source": [
    "2.1. agregar_producto(self, nombre, precio, cantidad): Este método agrega un producto al\n",
    "inventario o actualiza su cantidad si ya existe. Debe recibir el nombre, precio y cantidad del producto\n",
    "como parámetros.\n",
    " - Itera a través del inventario y compara los nombres de los productos con el nombre\n",
    "proporcionado.\n",
    "- Si el producto ya existe, actualiza la cantidad.\n",
    "- Si no existe, agrega un nuevo producto al inventario.\n"
   ]
  },
  {
   "cell_type": "code",
   "execution_count": null,
   "id": "91e9d1ce",
   "metadata": {},
   "outputs": [],
   "source": [
    "#Primero hacemos la función fuera de la clase para asegurarnos de que esté funcionando bien.\n",
    "\n",
    "productos=[{\"nombre\": \"camisa\", \"precio\":20, \"cantidad\":40}]\n",
    "\n",
    "def agregar_producto(nombre, precio, cantidad):\n",
    "    for producto in productos: #Incluimos un bucle for que itinerará por la lista productos.\n",
    "        if producto[\"nombre\"]==nombre: #Para cada elemento de la lista, verificará si la clave \"nombre\" de productos coincide con el argumento introducido (correspondiente al parámentro nombre al llamar la función)·\n",
    "            producto[\"cantidad\"] +=cantidad #En caso de que la condición if se cumpla, Python cogerá el número especificado en el argumento correspondente al parámetro cantidad al llamar la función y lo añadirá al número que consta en la var productos (valor correspondiente de la clave \"cantidad\").\n",
    "            print(f\"Producto existente. Cantidad actual disponible:{producto['cantidad']}\") #Salta mensaje diciendo que el producto introducido ya existe y muestra la cantidad actualizada.\n",
    "            return #Este return funciona para el ejercicio actual. Sin embargo, si estuviera trabajando con una lista donde hay más de una aparición del mismo artículo, return haría que el bucle se detuviera al encontrar la primera, e ignoraría la segunda, dejando las cantidades especificadas ahí sin añadir al total.\n",
    "    productos.append({\"nombre\":nombre, \"precio\":precio, \"cantidad\":cantidad}) #Si la condición especificada dentro del bucle for no se cumple, los argumentos introducidos al llamar la función agregar_producto se añaden a la var productos como un nuevo diccionario dentro de la lista.\n",
    "    print (f\"Producto añadido: {nombre}\") #Salta mensaje que indica el nuevo producto añadido a nuestra lista de productos."
   ]
  },
  {
   "cell_type": "code",
   "execution_count": null,
   "id": "e128cc01",
   "metadata": {},
   "outputs": [
    {
     "name": "stdout",
     "output_type": "stream",
     "text": [
      "Producto existente. Cantidad actual disponible:41\n",
      "Producto añadido: pantalon\n"
     ]
    }
   ],
   "source": [
    "#Ejemplos que demuestra que la función funciona.\n",
    "\n",
    "agregar_producto(\"camisa\", 20, 1) \n",
    "agregar_producto(\"pantalon\", 20, 9) \n"
   ]
  },
  {
   "cell_type": "code",
   "execution_count": 166,
   "id": "a96b2f03",
   "metadata": {},
   "outputs": [
    {
     "name": "stdout",
     "output_type": "stream",
     "text": [
      "[{'nombre': 'camisa', 'precio': 20, 'cantidad': 41}, {'nombre': 'pantalon', 'precio': 20, 'cantidad': 9}]\n"
     ]
    }
   ],
   "source": [
    "print(productos)"
   ]
  },
  {
   "cell_type": "code",
   "execution_count": 266,
   "id": "2642e897",
   "metadata": {},
   "outputs": [],
   "source": [
    "#A continuación, incluímos la función dentro de nuestra clase TiendaOnline, haciendo los cambios especificados abajo. Volvemos a incluir la definición de los atributos a modo de ayuda visual.\n",
    "\n",
    "class TiendaOnline:\n",
    "    def __init__(self, inventario, ventas_totales=float(0)): #incluir ambos parámetros permite que más adelante se modifiquen\n",
    "        self.inventario=inventario #Si aquí pongo =[] en vez de inventario, me sobreescribe una lista vacía sobre el elemento de la nueva instancia.\n",
    "        self.ventas_totales=ventas_totales\n",
    "\n",
    "    def agregar_producto(self, nombre, precio, cantidad):\n",
    "        for producto in self.inventario: #Incluimos un bucle for que itinerará por la lista productos.\n",
    "            if producto[\"nombre\"]==nombre: #Para cada elemento de la lista, verificará si el valor correspondiente a la clave \"nombre\" de productos coincide con el argumento introducido (correspondiente al parámentro nombre al llamar la función)·\n",
    "                producto[\"cantidad\"] +=cantidad #En caso de que la condición if se cumpla, Python cogerá el número especificado en el argumento correspondente al parámetro cantidad al llamar la función y lo añadirá al número que consta en la var productos (valor correspondiente de la clave \"cantidad\").\n",
    "                print(f\"Producto existente. Cantidad actual disponible:{producto['cantidad']}\") #Salta mensaje diciendo que el producto introducido ya existe y muestra la cantidad actualizada.\n",
    "                return #Este return funciona para el ejercicio actual. Sin embargo, si estuviera trabajando con una lista donde hay más de una aparición del mismo artículo, return haría que el bucle se detuviera al encontrar la primera, e ignoraría la segunda, dejando las cantidades especificadas ahí sin añadir al total.\n",
    "        self.inventario.append({\"nombre\": nombre, \"precio\": precio, \"cantidad\": cantidad}) #Si la condición especificada dentro del bucle for no se cumple, los argumentos introducidos al llamar la función agregar_producto se añaden a la var productos como un nuevo diccionario dentro de la lista.\n",
    "        print (f\"Producto añadido: {nombre}\") #Salta mensaje que indica el nuevo producto añadido a nuestra lista de productos.\n",
    "            "
   ]
  },
  {
   "cell_type": "code",
   "execution_count": 429,
   "id": "40e64d69",
   "metadata": {},
   "outputs": [],
   "source": [
    "mi_tienda=TiendaOnline([{\"nombre\":\"abrigo\", \"precio\": 70, \"cantidad\":15}])"
   ]
  },
  {
   "cell_type": "code",
   "execution_count": null,
   "id": "5f2f774d",
   "metadata": {},
   "outputs": [
    {
     "data": {
      "text/plain": [
       "{'inventario': [{'nombre': 'abrigo', 'precio': 70, 'cantidad': 15}],\n",
       " 'ventas_totales': 0.0}"
      ]
     },
     "execution_count": 430,
     "metadata": {},
     "output_type": "execute_result"
    }
   ],
   "source": [
    "mi_tienda.__dict__ #comprobamos los atributos del objeto mi_tienda"
   ]
  },
  {
   "cell_type": "code",
   "execution_count": 269,
   "id": "ab4aefb2",
   "metadata": {},
   "outputs": [
    {
     "name": "stdout",
     "output_type": "stream",
     "text": [
      "Producto existente. Cantidad actual disponible:30\n"
     ]
    }
   ],
   "source": [
    "mi_tienda.agregar_producto(\"abrigo\", 70, 15)\n"
   ]
  },
  {
   "cell_type": "code",
   "execution_count": 270,
   "id": "d9cc395a",
   "metadata": {},
   "outputs": [
    {
     "name": "stdout",
     "output_type": "stream",
     "text": [
      "Producto añadido: zapatos\n"
     ]
    }
   ],
   "source": [
    "mi_tienda.agregar_producto(\"zapatos\", 30, 20)"
   ]
  },
  {
   "cell_type": "code",
   "execution_count": null,
   "id": "5f34d9ae",
   "metadata": {},
   "outputs": [
    {
     "data": {
      "text/plain": [
       "{'inventario': [{'nombre': 'abrigo', 'precio': 70, 'cantidad': 30},\n",
       "  {'nombre': 'zapatos', 'precio': 30, 'cantidad': 20}],\n",
       " 'ventas_totales': 0.0}"
      ]
     },
     "execution_count": 271,
     "metadata": {},
     "output_type": "execute_result"
    }
   ],
   "source": [
    "mi_tienda.__dict__ #comprobamos los atributos del objeto mi_tienda"
   ]
  },
  {
   "cell_type": "markdown",
   "id": "315c344f",
   "metadata": {},
   "source": [
    "2.2. ver_inventario(self): \n",
    "- Muestra el inventario de productos con sus detalles.\n",
    "- Utiliza un bucle for para recorrer el inventario. \n",
    "- Imprime los detalles (nombre, precio, cantidad) de cada producto."
   ]
  },
  {
   "cell_type": "code",
   "execution_count": 290,
   "id": "d1838094",
   "metadata": {},
   "outputs": [],
   "source": [
    "class TiendaOnline:\n",
    "    def __init__(self, inventario, ventas_totales=float(0)): #incluir ambos parámetros permite que más adelante se modifiquen\n",
    "        self.inventario=inventario #Si aquí pongo =[] en vez de inventario, me sobreescribe una lista vacía sobre el elemento de la nueva instancia.\n",
    "        self.ventas_totales=ventas_totales\n",
    "\n",
    "    def ver_inventario (self):\n",
    "        print(self.inventario)\n",
    "        for producto in self.inventario:\n",
    "            print (f\"nombre: {producto['nombre']}, precio: ${producto['precio']}, cantidad: {producto['cantidad']}\")\n",
    "\n",
    "        "
   ]
  },
  {
   "cell_type": "code",
   "execution_count": 291,
   "id": "8cdb9268",
   "metadata": {},
   "outputs": [],
   "source": [
    "mi_tienda=TiendaOnline([{\"nombre\":\"abrigo\", \"precio\": 70, \"cantidad\":15}, {\"nombre\": \"camisa\", \"precio\":20, \"cantidad\":40}, {\"nombre\": \"pantalon\", \"precio\":30, \"cantidad\":30}])"
   ]
  },
  {
   "cell_type": "code",
   "execution_count": 292,
   "id": "be084ecf",
   "metadata": {},
   "outputs": [
    {
     "name": "stdout",
     "output_type": "stream",
     "text": [
      "[{'nombre': 'abrigo', 'precio': 70, 'cantidad': 15}, {'nombre': 'camisa', 'precio': 20, 'cantidad': 40}, {'nombre': 'pantalon', 'precio': 30, 'cantidad': 30}]\n",
      "nombre: abrigo, precio: $70, cantidad: 15\n",
      "nombre: camisa, precio: $20, cantidad: 40\n",
      "nombre: pantalon, precio: $30, cantidad: 30\n"
     ]
    }
   ],
   "source": [
    "mi_tienda.ver_inventario()"
   ]
  },
  {
   "cell_type": "code",
   "execution_count": null,
   "id": "20697076",
   "metadata": {},
   "outputs": [
    {
     "data": {
      "text/plain": [
       "{'inventario': [{'nombre': 'abrigo', 'precio': 70, 'cantidad': 15},\n",
       "  {'nombre': 'camisa', 'precio': 20, 'cantidad': 40},\n",
       "  {'nombre': 'pantalon', 'precio': 30, 'cantidad': 30}],\n",
       " 'ventas_totales': 0.0}"
      ]
     },
     "execution_count": 293,
     "metadata": {},
     "output_type": "execute_result"
    }
   ],
   "source": [
    "mi_tienda.__dict__ #comprobamos los atributos del objeto mi_tienda"
   ]
  },
  {
   "cell_type": "markdown",
   "id": "e428679a",
   "metadata": {},
   "source": [
    "2.3. buscar_producto(self, nombre): Busca un producto en el inventario por nombre y muestra sus\n",
    "detalles si se encuentra. \n",
    "- Debe recibir el nombre del producto como parámetro.\n",
    "- Utiliza un bucle for para recorrer el inventario.\n",
    "- Compara los nombres de los productos con el nombre proporcionado.\n",
    "- Si se encuentra el producto, imprime sus detalles."
   ]
  },
  {
   "cell_type": "code",
   "execution_count": 301,
   "id": "f9ce6ce6",
   "metadata": {},
   "outputs": [],
   "source": [
    "class TiendaOnline:\n",
    "    def __init__(self, inventario, ventas_totales=float(0)): #incluir ambos parámetros permite que más adelante se modifiquen\n",
    "        self.inventario=inventario #Si aquí pongo =[] en vez de inventario, me sobreescribe una lista vacía sobre el elemento de la nueva instancia.\n",
    "        self.ventas_totales=ventas_totales\n",
    "\n",
    "    def buscar_producto(self, nombre):\n",
    "        for producto in self.inventario:\n",
    "            if producto[\"nombre\"]==nombre:\n",
    "                print(f\"nombre: {producto['nombre']}, precio: ${producto['precio']}, cantidad: {producto['cantidad']}\")"
   ]
  },
  {
   "cell_type": "code",
   "execution_count": 305,
   "id": "349e17db",
   "metadata": {},
   "outputs": [],
   "source": [
    "mi_tienda=TiendaOnline([{'nombre': 'abrigo', 'precio': 70, 'cantidad': 15},\n",
    "  {'nombre': 'camisa', 'precio': 20, 'cantidad': 40},\n",
    "  {'nombre': 'pantalon', 'precio': 30, 'cantidad': 30}])"
   ]
  },
  {
   "cell_type": "code",
   "execution_count": null,
   "id": "a396fe9e",
   "metadata": {},
   "outputs": [
    {
     "data": {
      "text/plain": [
       "{'inventario': [{'nombre': 'abrigo', 'precio': 70, 'cantidad': 15},\n",
       "  {'nombre': 'camisa', 'precio': 20, 'cantidad': 40},\n",
       "  {'nombre': 'pantalon', 'precio': 30, 'cantidad': 30}],\n",
       " 'ventas_totales': 0.0}"
      ]
     },
     "execution_count": 306,
     "metadata": {},
     "output_type": "execute_result"
    }
   ],
   "source": [
    "mi_tienda.__dict__ #comprobamos los atributos del objeto mi_tienda"
   ]
  },
  {
   "cell_type": "code",
   "execution_count": 309,
   "id": "4afe68d6",
   "metadata": {},
   "outputs": [
    {
     "name": "stdout",
     "output_type": "stream",
     "text": [
      "nombre: camisa, precio: $20, cantidad: 40\n"
     ]
    }
   ],
   "source": [
    "mi_tienda.buscar_producto(\"camisa\")"
   ]
  },
  {
   "cell_type": "markdown",
   "id": "4d8d4340",
   "metadata": {},
   "source": [
    "2.4. actualizar_stock(self, nombre, cantidad): Actualiza el stock de un producto en el\n",
    "inventario. \n",
    "- Debe recibir el nombre del producto y la cantidad a agregar o quitar como parámetros.\n",
    "- Utiliza un bucle for para recorrer el inventario.\n",
    "- Busca el producto por nombre.\n",
    "- Actualiza la cantidad según la entrada del usuario.\n",
    "- Si el producto no esta en el inventario muestra un mensaje indicándolo.\n"
   ]
  },
  {
   "cell_type": "code",
   "execution_count": 431,
   "id": "b603f095",
   "metadata": {},
   "outputs": [],
   "source": [
    "class TiendaOnline:\n",
    "    def __init__(self, inventario, ventas_totales=float(0)): #incluir ambos parámetros permite que más adelante se modifiquen\n",
    "        self.inventario=inventario #Si aquí pongo =[] en vez de inventario, me sobreescribe una lista vacía sobre el elemento de la nueva instancia.\n",
    "        self.ventas_totales=ventas_totales\n",
    "\n",
    "    def actualizar_stock(self, nombre, cantidad):\n",
    "        for producto in self.inventario:\n",
    "            if producto[\"nombre\"]==nombre:\n",
    "                producto[\"cantidad\"] +=cantidad #En caso de que la condición if se cumpla, Python cogerá el número especificado en el argumento correspondente al parámetro cantidad al llamar la función y lo añadirá al número que consta en la var mi_tienda (valor correspondiente de la clave \"cantidad\").\n",
    "                print(f\"Cantidad actualizada de {producto['nombre']} en stock: {producto['cantidad']}\") #Salta mensaje indicando la cantidad actualizada.\n",
    "                return\n",
    "        print(f\"El producto {producto['nombre']} no se encuentra en el inventario\")"
   ]
  },
  {
   "cell_type": "code",
   "execution_count": 432,
   "id": "cce726f2",
   "metadata": {},
   "outputs": [],
   "source": [
    "mi_tienda=TiendaOnline([{'nombre': 'abrigo', 'precio': 70, 'cantidad': 15},\n",
    "  {'nombre': 'camisa', 'precio': 20, 'cantidad': 40},\n",
    "  {'nombre': 'pantalon', 'precio': 30, 'cantidad': 30},{'nombre': 'zapatos', 'precio': 45, 'cantidad': 25}])"
   ]
  },
  {
   "cell_type": "code",
   "execution_count": 433,
   "id": "a9d5a7c1",
   "metadata": {},
   "outputs": [
    {
     "data": {
      "text/plain": [
       "{'inventario': [{'nombre': 'abrigo', 'precio': 70, 'cantidad': 15},\n",
       "  {'nombre': 'camisa', 'precio': 20, 'cantidad': 40},\n",
       "  {'nombre': 'pantalon', 'precio': 30, 'cantidad': 30},\n",
       "  {'nombre': 'zapatos', 'precio': 45, 'cantidad': 25}],\n",
       " 'ventas_totales': 0.0}"
      ]
     },
     "execution_count": 433,
     "metadata": {},
     "output_type": "execute_result"
    }
   ],
   "source": [
    "mi_tienda.__dict__ #comprobamos los atributos del objeto mi_tienda"
   ]
  },
  {
   "cell_type": "code",
   "execution_count": null,
   "id": "9bf3a57a",
   "metadata": {},
   "outputs": [
    {
     "name": "stdout",
     "output_type": "stream",
     "text": [
      "Cantidad actualizada de zapatos en stock: 75\n"
     ]
    }
   ],
   "source": [
    "mi_tienda.actualizar_stock(\"zapatos\",50) #Vemos como la cantidad se actualiza correctamente."
   ]
  },
  {
   "cell_type": "code",
   "execution_count": null,
   "id": "15fa3354",
   "metadata": {},
   "outputs": [
    {
     "name": "stdout",
     "output_type": "stream",
     "text": [
      "El producto zapatos no se encuentra en el inventario\n"
     ]
    }
   ],
   "source": [
    "mi_tienda.actualizar_stock(\"sandalias\",50) #Vemos cómo salta el mensaje de fuera de inventario cuando el nombre del producto establecido no se encuentra en nuestra var mi_tienda."
   ]
  },
  {
   "cell_type": "markdown",
   "id": "e1b829b7",
   "metadata": {},
   "source": [
    "2.5. eliminar_producto(self, nombre): Elimina un producto del inventario por nombre. Debe recibir el nombre del producto como parámetro.\n",
    "- Utiliza un bucle for para recorrer el inventario.\n",
    "- Busca el producto por nombre.\n",
    "- Elimina el producto del inventario si existe.\n",
    "- Si el producto no esta en el inventario muestra un mensaje indicándolo.\n"
   ]
  },
  {
   "cell_type": "code",
   "execution_count": 351,
   "id": "8698d0cd",
   "metadata": {},
   "outputs": [],
   "source": [
    "class TiendaOnline:\n",
    "    def __init__(self, inventario, ventas_totales=float(0)): #incluir ambos parámetros permite que más adelante se modifiquen\n",
    "        self.inventario=inventario #Si aquí pongo =[] en vez de inventario, me sobreescribe una lista vacía sobre el elemento de la nueva instancia.\n",
    "        self.ventas_totales=ventas_totales\n",
    "    \n",
    "    def eliminar_producto(self, nombre):\n",
    "        for producto in self.inventario:\n",
    "            if producto[\"nombre\"]==nombre:\n",
    "                self.inventario.remove(producto)\n",
    "                return\n",
    "        print(f\"El producto {nombre} no se encuentra en el inventario.\")"
   ]
  },
  {
   "cell_type": "code",
   "execution_count": 352,
   "id": "b02a2916",
   "metadata": {},
   "outputs": [],
   "source": [
    "mi_tienda=TiendaOnline([{'nombre': 'abrigo', 'precio': 70, 'cantidad': 15},\n",
    "  {'nombre': 'camisa', 'precio': 20, 'cantidad': 40},\n",
    "  {'nombre': 'pantalon', 'precio': 30, 'cantidad': 30},{'nombre': 'zapatos', 'precio': 45, 'cantidad': 25}])"
   ]
  },
  {
   "cell_type": "code",
   "execution_count": 353,
   "id": "2ca4e04b",
   "metadata": {},
   "outputs": [
    {
     "data": {
      "text/plain": [
       "{'inventario': [{'nombre': 'abrigo', 'precio': 70, 'cantidad': 15},\n",
       "  {'nombre': 'camisa', 'precio': 20, 'cantidad': 40},\n",
       "  {'nombre': 'pantalon', 'precio': 30, 'cantidad': 30},\n",
       "  {'nombre': 'zapatos', 'precio': 45, 'cantidad': 25}],\n",
       " 'ventas_totales': 0.0}"
      ]
     },
     "execution_count": 353,
     "metadata": {},
     "output_type": "execute_result"
    }
   ],
   "source": [
    "mi_tienda.__dict__"
   ]
  },
  {
   "cell_type": "code",
   "execution_count": 354,
   "id": "a77926ee",
   "metadata": {},
   "outputs": [],
   "source": [
    "mi_tienda.eliminar_producto(\"zapatos\")"
   ]
  },
  {
   "cell_type": "code",
   "execution_count": 355,
   "id": "4acee1c8",
   "metadata": {},
   "outputs": [
    {
     "data": {
      "text/plain": [
       "{'inventario': [{'nombre': 'abrigo', 'precio': 70, 'cantidad': 15},\n",
       "  {'nombre': 'camisa', 'precio': 20, 'cantidad': 40},\n",
       "  {'nombre': 'pantalon', 'precio': 30, 'cantidad': 30}],\n",
       " 'ventas_totales': 0.0}"
      ]
     },
     "execution_count": 355,
     "metadata": {},
     "output_type": "execute_result"
    }
   ],
   "source": [
    "mi_tienda.__dict__"
   ]
  },
  {
   "cell_type": "code",
   "execution_count": 356,
   "id": "7c51fd92",
   "metadata": {},
   "outputs": [
    {
     "name": "stdout",
     "output_type": "stream",
     "text": [
      "El producto guantes no se encuentra en el inventario.\n"
     ]
    }
   ],
   "source": [
    "mi_tienda.eliminar_producto(\"guantes\")"
   ]
  },
  {
   "cell_type": "markdown",
   "id": "f5db5537",
   "metadata": {},
   "source": [
    "2.6.  calcular_valor_inventario(self): Calcula y muestra el valor total del inventario.\n",
    "- Utiliza un bucle for para calcular el valor total del inventario.\n",
    "- Itera a través del inventario y suma el valor de cada producto (precio x cantidad). Es decir, calcula el valor total del inventario"
   ]
  },
  {
   "cell_type": "code",
   "execution_count": 410,
   "id": "538d930e",
   "metadata": {},
   "outputs": [],
   "source": [
    "#Hemos creado la función a parte para asegurarnos de que esté funcionando bien. Como hemos visto que funciona, la hemos integrado en la clase abajo.\n",
    "def calcular_valor_inventario():\n",
    "        valor_total_inventario=0\n",
    "        for producto in inventario1:\n",
    "                valor_producto=producto[\"precio\"]*producto[\"cantidad\"]\n",
    "                print (f\"El valor total de todos los artículos de {producto['nombre']} es de ${valor_producto}\")\n",
    "                valor_total_inventario+= valor_producto\n",
    "        print(f\"El valor total del inventario es de ${valor_total_inventario}\")\n",
    "        "
   ]
  },
  {
   "cell_type": "code",
   "execution_count": 415,
   "id": "80ba79d6",
   "metadata": {},
   "outputs": [],
   "source": [
    "inventario1=[{'nombre': 'abrigo', 'precio': 70, 'cantidad': 15},\n",
    "  {'nombre': 'camisa', 'precio': 20, 'cantidad': 40},\n",
    "  {'nombre': 'pantalon', 'precio': 30, 'cantidad': 30},{'nombre': 'zapatos', 'precio': 45, 'cantidad': 25}]"
   ]
  },
  {
   "cell_type": "code",
   "execution_count": 416,
   "id": "15f80cf8",
   "metadata": {},
   "outputs": [
    {
     "name": "stdout",
     "output_type": "stream",
     "text": [
      "El valor total de todos los artículos de abrigo es de $1050\n",
      "El valor total de todos los artículos de camisa es de $800\n",
      "El valor total de todos los artículos de pantalon es de $900\n",
      "El valor total de todos los artículos de zapatos es de $1125\n",
      "El valor total del inventario es de $3875\n"
     ]
    }
   ],
   "source": [
    "calcular_valor_inventario()"
   ]
  },
  {
   "cell_type": "code",
   "execution_count": 426,
   "id": "e3869db6",
   "metadata": {},
   "outputs": [],
   "source": [
    "class TiendaOnline:\n",
    "    def __init__(self, inventario, ventas_totales=float(0)): #incluir ambos parámetros permite que más adelante se modifiquen\n",
    "        self.inventario=inventario #Si aquí pongo =[] en vez de inventario, me sobreescribe una lista vacía sobre el elemento de la nueva instancia.\n",
    "        self.ventas_totales=ventas_totales\n",
    "    \n",
    "    def calcular_valor_inventario(self):\n",
    "        valor_total_inventario=0\n",
    "        for producto in self.inventario:\n",
    "                valor_producto=producto[\"precio\"]*producto[\"cantidad\"]\n",
    "                print (f\"El valor total de todos los artículos de {producto['nombre']} es de ${valor_producto}\")\n",
    "                valor_total_inventario+= valor_producto\n",
    "        print(f\"El valor total del inventario es de ${valor_total_inventario}\")\n",
    "        "
   ]
  },
  {
   "cell_type": "code",
   "execution_count": 427,
   "id": "7e3e956a",
   "metadata": {},
   "outputs": [],
   "source": [
    "mi_tienda=TiendaOnline([{'nombre': 'abrigo', 'precio': 70, 'cantidad': 15},\n",
    "  {'nombre': 'camisa', 'precio': 20, 'cantidad': 40},\n",
    "  {'nombre': 'pantalon', 'precio': 30, 'cantidad': 30},{'nombre': 'zapatos', 'precio': 45, 'cantidad': 25}])"
   ]
  },
  {
   "cell_type": "code",
   "execution_count": 428,
   "id": "7f737221",
   "metadata": {},
   "outputs": [
    {
     "name": "stdout",
     "output_type": "stream",
     "text": [
      "El valor total de todos los artículos de abrigo es de $1050\n",
      "El valor total de todos los artículos de camisa es de $800\n",
      "El valor total de todos los artículos de pantalon es de $900\n",
      "El valor total de todos los artículos de zapatos es de $1125\n",
      "El valor total del inventario es de $3875\n"
     ]
    }
   ],
   "source": [
    "mi_tienda.calcular_valor_inventario()"
   ]
  },
  {
   "cell_type": "markdown",
   "id": "815c73c1",
   "metadata": {},
   "source": [
    "# Ejercicios Bonus\n",
    "\n",
    "Para realizar esta parte, debes añadir los siguientes atributos a la clase TiendaOnline:"
   ]
  },
  {
   "cell_type": "markdown",
   "id": "d1fa4079",
   "metadata": {},
   "source": [
    "3.1. clientes (diccionario): Un atributo para llevar un registro de los clientes de la tienda. Cada cliente\n",
    "debe ser representado como un diccionario con las siguientes claves: 'nombre' y 'email'. Al inicio\n",
    "deberá ser un diccionario vacío. Además, cada cliente debe tener un historial de compras.\n"
   ]
  },
  {
   "cell_type": "code",
   "execution_count": null,
   "id": "357bc990",
   "metadata": {},
   "outputs": [],
   "source": [
    "class TiendaOnline:\n",
    "    def __init__(self, inventario, ventas_totales=float(0)):\n",
    "        self.inventario=inventario\n",
    "        self.ventas_totales=ventas_totales\n",
    "        self.clientes={}\n"
   ]
  },
  {
   "cell_type": "markdown",
   "id": "7678f5f9",
   "metadata": {},
   "source": [
    "4.1. . agregar_cliente(self, nombre, email): Agrega un nuevo cliente al registro de clientes.\n",
    "Debe recibir el nombre y el correo electrónico del cliente como parámetros.\n",
    "Agrega un cliente al diccionario de clientes con su nombre y correo electrónico."
   ]
  },
  {
   "cell_type": "code",
   "execution_count": 483,
   "id": "16c62f4d",
   "metadata": {},
   "outputs": [],
   "source": [
    "#Primero creamos una función llamada agregar_clientes para ver si el código incluido funciona.\n",
    "\n",
    "clientes=[]\n",
    "def agregar_cliente(nombre, email):\n",
    "        for cliente in clientes:\n",
    "            if cliente[\"nombre\"] == nombre:\n",
    "                print(f\"Cliente {nombre} ya existe en la lista.\")\n",
    "                return\n",
    "    \n",
    "        clientes.append({\"nombre\": nombre, \"email\": email})\n",
    "        print(f\"Cliente {nombre} ha sido añadido a la lista de clientes.\")\n",
    "        print(clientes)"
   ]
  },
  {
   "cell_type": "code",
   "execution_count": 484,
   "id": "a61ee65d",
   "metadata": {},
   "outputs": [
    {
     "name": "stdout",
     "output_type": "stream",
     "text": [
      "Cliente Felix ha sido añadido a la lista de clientes.\n",
      "[{'nombre': 'Felix', 'email': 'felix.gatito@gmail.com'}]\n"
     ]
    }
   ],
   "source": [
    "agregar_cliente(\"Felix\", \"felix.gatito@gmail.com\")"
   ]
  },
  {
   "cell_type": "code",
   "execution_count": 485,
   "id": "8e6bdc5a",
   "metadata": {},
   "outputs": [
    {
     "name": "stdout",
     "output_type": "stream",
     "text": [
      "Cliente Felix ya existe en la lista.\n"
     ]
    }
   ],
   "source": [
    "agregar_cliente(\"Felix\", \"felix.gatito@gmail.com\")"
   ]
  },
  {
   "cell_type": "code",
   "execution_count": 521,
   "id": "34939f7f",
   "metadata": {},
   "outputs": [],
   "source": [
    "#Tras lograr que el código funcione, incluimos la función dentro de la clase.\n",
    "\n",
    "class TiendaOnline:\n",
    "    def __init__(self, inventario, ventas_totales=float(0)):\n",
    "        self.inventario=inventario\n",
    "        self.ventas_totales=ventas_totales\n",
    "        self.clientes=[]\n",
    "    \n",
    "    def agregar_cliente(self, nombre, email):\n",
    "        for cliente in self.clientes:\n",
    "            if cliente[\"nombre\"] == nombre:\n",
    "                print(f\"Cliente {nombre} ya existe en la lista.\")\n",
    "                return\n",
    "    \n",
    "        self.clientes.append({\"nombre\": nombre, \"email\": email})\n",
    "        print(f\"Cliente {nombre} ha sido añadido a la lista de clientes.\")\n",
    "        \n",
    "        "
   ]
  },
  {
   "cell_type": "code",
   "execution_count": 522,
   "id": "8d40306c",
   "metadata": {},
   "outputs": [],
   "source": [
    "mis_clientes=TiendaOnline(inventario=[]) #lo hago así porque de especificar (\"Felix\", \"felix.gatito@gmail.com\"), incluye la información dada en inventario, no en clientes."
   ]
  },
  {
   "cell_type": "code",
   "execution_count": null,
   "id": "6a6adf77",
   "metadata": {},
   "outputs": [
    {
     "name": "stdout",
     "output_type": "stream",
     "text": [
      "Cliente Manu ha sido añadido a la lista de clientes.\n"
     ]
    }
   ],
   "source": [
    "#A continuación, comprobamos que el método funciona:\n",
    "\n",
    "mis_clientes.agregar_cliente(\"Manu\", \"manu@gmail.com\")"
   ]
  },
  {
   "cell_type": "code",
   "execution_count": 524,
   "id": "2e3a18e3",
   "metadata": {},
   "outputs": [
    {
     "name": "stdout",
     "output_type": "stream",
     "text": [
      "Cliente Felix ha sido añadido a la lista de clientes.\n"
     ]
    }
   ],
   "source": [
    "mis_clientes.agregar_cliente(\"Felix\", \"felix.gatito@gmail.com\")"
   ]
  },
  {
   "cell_type": "code",
   "execution_count": 525,
   "id": "6273421a",
   "metadata": {},
   "outputs": [
    {
     "name": "stdout",
     "output_type": "stream",
     "text": [
      "Cliente Felix ya existe en la lista.\n"
     ]
    }
   ],
   "source": [
    "mis_clientes.agregar_cliente(\"Felix\", \"felix.gatito@gmail.com\")"
   ]
  }
 ],
 "metadata": {
  "kernelspec": {
   "display_name": "Python 3",
   "language": "python",
   "name": "python3"
  },
  "language_info": {
   "codemirror_mode": {
    "name": "ipython",
    "version": 3
   },
   "file_extension": ".py",
   "mimetype": "text/x-python",
   "name": "python",
   "nbconvert_exporter": "python",
   "pygments_lexer": "ipython3",
   "version": "3.11.9"
  }
 },
 "nbformat": 4,
 "nbformat_minor": 5
}
